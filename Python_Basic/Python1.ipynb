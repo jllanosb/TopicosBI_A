{
 "cells": [
  {
   "cell_type": "markdown",
   "id": "a0e6d3dd",
   "metadata": {},
   "source": [
    "# Python for Big Data\n",
    "\n",
    "1. Variables\n",
    "2. String\n",
    "3. Function print\n",
    "4. Booleanos y Condicionales\n",
    "5. Loops\n",
    "6. Funciones\n",
    "7. Manejo de Excepciones"
   ]
  },
  {
   "cell_type": "markdown",
   "id": "bc8d1e15",
   "metadata": {},
   "source": [
    "# 1. Variables"
   ]
  },
  {
   "cell_type": "code",
   "execution_count": 2,
   "id": "c738e307",
   "metadata": {},
   "outputs": [
    {
     "ename": "NameError",
     "evalue": "name 'resultado' is not defined",
     "output_type": "error",
     "traceback": [
      "\u001b[31m---------------------------------------------------------------------------\u001b[39m",
      "\u001b[31mNameError\u001b[39m                                 Traceback (most recent call last)",
      "\u001b[36mCell\u001b[39m\u001b[36m \u001b[39m\u001b[32mIn[2]\u001b[39m\u001b[32m, line 2\u001b[39m\n\u001b[32m      1\u001b[39m \u001b[38;5;66;03m# Variable bo definida\u001b[39;00m\n\u001b[32m----> \u001b[39m\u001b[32m2\u001b[39m \u001b[43mresultado\u001b[49m\n",
      "\u001b[31mNameError\u001b[39m: name 'resultado' is not defined"
     ]
    }
   ],
   "source": [
    "# Variable bo definida\n",
    "resultado"
   ]
  },
  {
   "cell_type": "code",
   "execution_count": 3,
   "id": "7861be0d",
   "metadata": {},
   "outputs": [],
   "source": [
    "# Declarando variables\n",
    "monto_deuda = 1000\n",
    "moneda = \"Soles\""
   ]
  },
  {
   "cell_type": "code",
   "execution_count": 4,
   "id": "15c98dc9",
   "metadata": {},
   "outputs": [
    {
     "data": {
      "text/plain": [
       "1000"
      ]
     },
     "execution_count": 4,
     "metadata": {},
     "output_type": "execute_result"
    }
   ],
   "source": [
    "# mostrar variable\n",
    "monto_deuda"
   ]
  },
  {
   "cell_type": "code",
   "execution_count": 5,
   "id": "aeb91b46",
   "metadata": {},
   "outputs": [
    {
     "data": {
      "text/plain": [
       "'Soles'"
      ]
     },
     "execution_count": 5,
     "metadata": {},
     "output_type": "execute_result"
    }
   ],
   "source": [
    "moneda"
   ]
  },
  {
   "cell_type": "code",
   "execution_count": null,
   "id": "dc8abdf5",
   "metadata": {},
   "outputs": [],
   "source": [
    "# Interactuar con el usuario\n",
    "monto_interes = int(input(\"Ingrese el interes: \"))"
   ]
  },
  {
   "cell_type": "code",
   "execution_count": 6,
   "id": "5301cf2f",
   "metadata": {},
   "outputs": [
    {
     "data": {
      "text/plain": [
       "4000"
      ]
     },
     "execution_count": 6,
     "metadata": {},
     "output_type": "execute_result"
    }
   ],
   "source": [
    "# Operando con variables\n",
    "resultado = monto_deuda*4\n",
    "resultado"
   ]
  },
  {
   "cell_type": "code",
   "execution_count": 7,
   "id": "a8f5c909",
   "metadata": {},
   "outputs": [
    {
     "data": {
      "text/plain": [
       "int"
      ]
     },
     "execution_count": 7,
     "metadata": {},
     "output_type": "execute_result"
    }
   ],
   "source": [
    "# Tipo de variable\n",
    "type(monto_deuda)"
   ]
  },
  {
   "cell_type": "code",
   "execution_count": 8,
   "id": "66d57884",
   "metadata": {},
   "outputs": [
    {
     "data": {
      "text/plain": [
       "str"
      ]
     },
     "execution_count": 8,
     "metadata": {},
     "output_type": "execute_result"
    }
   ],
   "source": [
    "type(moneda)"
   ]
  },
  {
   "cell_type": "code",
   "execution_count": 9,
   "id": "66332891",
   "metadata": {},
   "outputs": [
    {
     "data": {
      "text/plain": [
       "16000"
      ]
     },
     "execution_count": 9,
     "metadata": {},
     "output_type": "execute_result"
    }
   ],
   "source": [
    "# Operar variables\n",
    "4*resultado"
   ]
  },
  {
   "cell_type": "code",
   "execution_count": 10,
   "id": "0b9e81de",
   "metadata": {},
   "outputs": [
    {
     "data": {
      "text/plain": [
       "'1000'"
      ]
     },
     "execution_count": 10,
     "metadata": {},
     "output_type": "execute_result"
    }
   ],
   "source": [
    "# Cambiando tipo variable\n",
    "str_monto_deuda = str(monto_deuda)\n",
    "str_monto_deuda"
   ]
  },
  {
   "cell_type": "code",
   "execution_count": 11,
   "id": "f033bd65",
   "metadata": {},
   "outputs": [
    {
     "data": {
      "text/plain": [
       "1000"
      ]
     },
     "execution_count": 11,
     "metadata": {},
     "output_type": "execute_result"
    }
   ],
   "source": [
    "int_monto_deuda=int(str_monto_deuda)\n",
    "int_monto_deuda"
   ]
  },
  {
   "cell_type": "markdown",
   "id": "b447872e",
   "metadata": {},
   "source": [
    "# 2. String"
   ]
  },
  {
   "cell_type": "code",
   "execution_count": 1,
   "id": "7241de03",
   "metadata": {},
   "outputs": [
    {
     "data": {
      "text/plain": [
       "'Hola'"
      ]
     },
     "execution_count": 1,
     "metadata": {},
     "output_type": "execute_result"
    }
   ],
   "source": [
    "# Concatenar\n",
    "'Ho' + 'la'"
   ]
  },
  {
   "cell_type": "code",
   "execution_count": 5,
   "id": "c79835fb",
   "metadata": {},
   "outputs": [],
   "source": [
    "# Comillas simples o dobles\n",
    "text_1 = \"Mi primer mensaje\"\n",
    "text_2 = 'Mi segundo mensaje'"
   ]
  },
  {
   "cell_type": "code",
   "execution_count": 6,
   "id": "5f71aaa4",
   "metadata": {},
   "outputs": [
    {
     "data": {
      "text/plain": [
       "'Mi primer mensaje'"
      ]
     },
     "execution_count": 6,
     "metadata": {},
     "output_type": "execute_result"
    }
   ],
   "source": [
    "text_1"
   ]
  },
  {
   "cell_type": "code",
   "execution_count": 7,
   "id": "aed28d32",
   "metadata": {},
   "outputs": [
    {
     "data": {
      "text/plain": [
       "'Mi segundo mensaje'"
      ]
     },
     "execution_count": 7,
     "metadata": {},
     "output_type": "execute_result"
    }
   ],
   "source": [
    "text_2"
   ]
  },
  {
   "cell_type": "code",
   "execution_count": 8,
   "id": "af73a9cd",
   "metadata": {},
   "outputs": [],
   "source": [
    "# Comillas triples\n",
    "consulta = \"\"\"\n",
    "SELECT * FROM USERS\n",
    "WHERE ID = 8\n",
    "GROUP BY ADMIN\n",
    "\"\"\""
   ]
  },
  {
   "cell_type": "code",
   "execution_count": 9,
   "id": "e3842f73",
   "metadata": {},
   "outputs": [
    {
     "data": {
      "text/plain": [
       "'\\nSELECT * FROM USERS\\nWHERE ID = 8\\nGROUP BY ADMIN\\n'"
      ]
     },
     "execution_count": 9,
     "metadata": {},
     "output_type": "execute_result"
    }
   ],
   "source": [
    "consulta"
   ]
  },
  {
   "cell_type": "code",
   "execution_count": 11,
   "id": "d0601617",
   "metadata": {},
   "outputs": [],
   "source": [
    "# Operaciones con String\n",
    "cadena_1 = 'hola mundo'\n",
    "cadena_2 = '5'\n",
    "cadena_3 = 'cinco'"
   ]
  },
  {
   "cell_type": "code",
   "execution_count": 12,
   "id": "05a596ec",
   "metadata": {},
   "outputs": [
    {
     "data": {
      "text/plain": [
       "'Hola mundo'"
      ]
     },
     "execution_count": 12,
     "metadata": {},
     "output_type": "execute_result"
    }
   ],
   "source": [
    "cadena_1.capitalize()"
   ]
  },
  {
   "cell_type": "code",
   "execution_count": 13,
   "id": "7ecae3bf",
   "metadata": {},
   "outputs": [
    {
     "data": {
      "text/plain": [
       "'CINCO'"
      ]
     },
     "execution_count": 13,
     "metadata": {},
     "output_type": "execute_result"
    }
   ],
   "source": [
    "cadena_3.upper()"
   ]
  },
  {
   "cell_type": "code",
   "execution_count": 14,
   "id": "7286c185",
   "metadata": {},
   "outputs": [
    {
     "data": {
      "text/plain": [
       "'cinco'"
      ]
     },
     "execution_count": 14,
     "metadata": {},
     "output_type": "execute_result"
    }
   ],
   "source": [
    "cadena_3.lower()"
   ]
  },
  {
   "cell_type": "code",
   "execution_count": 15,
   "id": "9e654d5f",
   "metadata": {},
   "outputs": [
    {
     "data": {
      "text/plain": [
       "'Hola Mundo'"
      ]
     },
     "execution_count": 15,
     "metadata": {},
     "output_type": "execute_result"
    }
   ],
   "source": [
    "cadena_1.title()"
   ]
  },
  {
   "cell_type": "code",
   "execution_count": null,
   "id": "0e63fda8",
   "metadata": {},
   "outputs": [
    {
     "data": {
      "text/plain": [
       "['hola', 'mundo']"
      ]
     },
     "execution_count": 16,
     "metadata": {},
     "output_type": "execute_result"
    }
   ],
   "source": [
    "# Dividir string\n",
    "cadena_1.split()"
   ]
  },
  {
   "cell_type": "code",
   "execution_count": 17,
   "id": "8bf3b577",
   "metadata": {},
   "outputs": [
    {
     "data": {
      "text/plain": [
       "2"
      ]
     },
     "execution_count": 17,
     "metadata": {},
     "output_type": "execute_result"
    }
   ],
   "source": [
    "cadena_1.count('o')"
   ]
  },
  {
   "cell_type": "code",
   "execution_count": 18,
   "id": "8e5e7c16",
   "metadata": {},
   "outputs": [
    {
     "data": {
      "text/plain": [
       "10"
      ]
     },
     "execution_count": 18,
     "metadata": {},
     "output_type": "execute_result"
    }
   ],
   "source": [
    "# Longitud de una cadena\n",
    "len(cadena_1)"
   ]
  },
  {
   "cell_type": "code",
   "execution_count": 19,
   "id": "e4405447",
   "metadata": {},
   "outputs": [
    {
     "data": {
      "text/plain": [
       "['hola ', 'undo']"
      ]
     },
     "execution_count": 19,
     "metadata": {},
     "output_type": "execute_result"
    }
   ],
   "source": [
    "# Quitar letra string\n",
    "cadena_1.split('m')"
   ]
  },
  {
   "cell_type": "code",
   "execution_count": 20,
   "id": "ca6339e8",
   "metadata": {},
   "outputs": [
    {
     "data": {
      "text/plain": [
       "'(Hola Mundo),'"
      ]
     },
     "execution_count": 20,
     "metadata": {},
     "output_type": "execute_result"
    }
   ],
   "source": [
    "# Limpiando extremo string\n",
    "cadena_4 = '(Hola Mundo), '\n",
    "cadena_4.strip()"
   ]
  },
  {
   "cell_type": "code",
   "execution_count": 21,
   "id": "2ab4a3bc",
   "metadata": {},
   "outputs": [
    {
     "data": {
      "text/plain": [
       "'Hola Mundo'"
      ]
     },
     "execution_count": 21,
     "metadata": {},
     "output_type": "execute_result"
    }
   ],
   "source": [
    "cadena_4.strip('(), ')"
   ]
  },
  {
   "cell_type": "code",
   "execution_count": 22,
   "id": "29412925",
   "metadata": {},
   "outputs": [
    {
     "data": {
      "text/plain": [
       "'Hi Mundo'"
      ]
     },
     "execution_count": 22,
     "metadata": {},
     "output_type": "execute_result"
    }
   ],
   "source": [
    "# Reemplazar string\n",
    "cadena_5 = 'Hola Mundo'\n",
    "cadena_5.replace('Hola', 'Hi')"
   ]
  }
 ],
 "metadata": {
  "kernelspec": {
   "display_name": "myenv",
   "language": "python",
   "name": "python3"
  },
  "language_info": {
   "codemirror_mode": {
    "name": "ipython",
    "version": 3
   },
   "file_extension": ".py",
   "mimetype": "text/x-python",
   "name": "python",
   "nbconvert_exporter": "python",
   "pygments_lexer": "ipython3",
   "version": "3.13.7"
  }
 },
 "nbformat": 4,
 "nbformat_minor": 5
}
