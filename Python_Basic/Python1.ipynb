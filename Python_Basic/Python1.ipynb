{
 "cells": [
  {
   "cell_type": "markdown",
   "id": "a0e6d3dd",
   "metadata": {},
   "source": [
    "# Python for Big Data\n",
    "\n",
    "1. Variables\n",
    "2. String\n",
    "3. Function print\n",
    "4. Booleanos y Condicionales\n",
    "5. Loops\n",
    "6. Funciones\n",
    "7. Manejo de Excepciones"
   ]
  },
  {
   "cell_type": "markdown",
   "id": "bc8d1e15",
   "metadata": {},
   "source": [
    "# 1. Variables"
   ]
  },
  {
   "cell_type": "code",
   "execution_count": 1,
   "id": "c738e307",
   "metadata": {},
   "outputs": [
    {
     "ename": "NameError",
     "evalue": "name 'resultado' is not defined",
     "output_type": "error",
     "traceback": [
      "\u001b[31m---------------------------------------------------------------------------\u001b[39m",
      "\u001b[31mNameError\u001b[39m                                 Traceback (most recent call last)",
      "\u001b[36mCell\u001b[39m\u001b[36m \u001b[39m\u001b[32mIn[1]\u001b[39m\u001b[32m, line 2\u001b[39m\n\u001b[32m      1\u001b[39m \u001b[38;5;66;03m# Variable bo definida\u001b[39;00m\n\u001b[32m----> \u001b[39m\u001b[32m2\u001b[39m \u001b[43mresultado\u001b[49m\n",
      "\u001b[31mNameError\u001b[39m: name 'resultado' is not defined"
     ]
    }
   ],
   "source": [
    "# Variable bo definida\n",
    "resultado"
   ]
  },
  {
   "cell_type": "code",
   "execution_count": null,
   "id": "7861be0d",
   "metadata": {},
   "outputs": [],
   "source": [
    "# Declarando variables\n",
    "monto_deuda = 1000\n",
    "moneda = \"Soles\""
   ]
  },
  {
   "cell_type": "code",
   "execution_count": null,
   "id": "15c98dc9",
   "metadata": {},
   "outputs": [
    {
     "data": {
      "text/plain": [
       "1000"
      ]
     },
     "execution_count": 4,
     "metadata": {},
     "output_type": "execute_result"
    }
   ],
   "source": [
    "# mostrar variable\n",
    "monto_deuda"
   ]
  },
  {
   "cell_type": "code",
   "execution_count": null,
   "id": "aeb91b46",
   "metadata": {},
   "outputs": [
    {
     "data": {
      "text/plain": [
       "'Soles'"
      ]
     },
     "execution_count": 5,
     "metadata": {},
     "output_type": "execute_result"
    }
   ],
   "source": [
    "moneda"
   ]
  },
  {
   "cell_type": "code",
   "execution_count": null,
   "id": "dc8abdf5",
   "metadata": {},
   "outputs": [],
   "source": [
    "# Interactuar con el usuario\n",
    "monto_interes = int(input(\"Ingrese el interes: \"))"
   ]
  },
  {
   "cell_type": "code",
   "execution_count": null,
   "id": "5301cf2f",
   "metadata": {},
   "outputs": [
    {
     "data": {
      "text/plain": [
       "4000"
      ]
     },
     "execution_count": 6,
     "metadata": {},
     "output_type": "execute_result"
    }
   ],
   "source": [
    "# Operando con variables\n",
    "resultado = monto_deuda*4\n",
    "resultado"
   ]
  },
  {
   "cell_type": "code",
   "execution_count": null,
   "id": "a8f5c909",
   "metadata": {},
   "outputs": [
    {
     "data": {
      "text/plain": [
       "int"
      ]
     },
     "execution_count": 7,
     "metadata": {},
     "output_type": "execute_result"
    }
   ],
   "source": [
    "# Tipo de variable\n",
    "type(monto_deuda)"
   ]
  },
  {
   "cell_type": "code",
   "execution_count": null,
   "id": "66d57884",
   "metadata": {},
   "outputs": [
    {
     "data": {
      "text/plain": [
       "str"
      ]
     },
     "execution_count": 8,
     "metadata": {},
     "output_type": "execute_result"
    }
   ],
   "source": [
    "type(moneda)"
   ]
  },
  {
   "cell_type": "code",
   "execution_count": null,
   "id": "66332891",
   "metadata": {},
   "outputs": [
    {
     "data": {
      "text/plain": [
       "16000"
      ]
     },
     "execution_count": 9,
     "metadata": {},
     "output_type": "execute_result"
    }
   ],
   "source": [
    "# Operar variables\n",
    "4*resultado"
   ]
  },
  {
   "cell_type": "code",
   "execution_count": null,
   "id": "0b9e81de",
   "metadata": {},
   "outputs": [
    {
     "data": {
      "text/plain": [
       "'1000'"
      ]
     },
     "execution_count": 10,
     "metadata": {},
     "output_type": "execute_result"
    }
   ],
   "source": [
    "# Cambiando tipo variable\n",
    "str_monto_deuda = str(monto_deuda)\n",
    "str_monto_deuda"
   ]
  },
  {
   "cell_type": "code",
   "execution_count": null,
   "id": "f033bd65",
   "metadata": {},
   "outputs": [
    {
     "data": {
      "text/plain": [
       "1000"
      ]
     },
     "execution_count": 11,
     "metadata": {},
     "output_type": "execute_result"
    }
   ],
   "source": [
    "int_monto_deuda=int(str_monto_deuda)\n",
    "int_monto_deuda"
   ]
  },
  {
   "cell_type": "markdown",
   "id": "b447872e",
   "metadata": {},
   "source": [
    "# 2. String"
   ]
  },
  {
   "cell_type": "code",
   "execution_count": null,
   "id": "7241de03",
   "metadata": {},
   "outputs": [
    {
     "data": {
      "text/plain": [
       "'Hola'"
      ]
     },
     "execution_count": 1,
     "metadata": {},
     "output_type": "execute_result"
    }
   ],
   "source": [
    "# Concatenar\n",
    "'Ho' + 'la'"
   ]
  },
  {
   "cell_type": "code",
   "execution_count": null,
   "id": "c79835fb",
   "metadata": {},
   "outputs": [],
   "source": [
    "# Comillas simples o dobles\n",
    "text_1 = \"Mi primer mensaje\"\n",
    "text_2 = 'Mi segundo mensaje'"
   ]
  },
  {
   "cell_type": "code",
   "execution_count": null,
   "id": "5f71aaa4",
   "metadata": {},
   "outputs": [
    {
     "data": {
      "text/plain": [
       "'Mi primer mensaje'"
      ]
     },
     "execution_count": 6,
     "metadata": {},
     "output_type": "execute_result"
    }
   ],
   "source": [
    "text_1"
   ]
  },
  {
   "cell_type": "code",
   "execution_count": null,
   "id": "aed28d32",
   "metadata": {},
   "outputs": [
    {
     "data": {
      "text/plain": [
       "'Mi segundo mensaje'"
      ]
     },
     "execution_count": 7,
     "metadata": {},
     "output_type": "execute_result"
    }
   ],
   "source": [
    "text_2"
   ]
  },
  {
   "cell_type": "code",
   "execution_count": null,
   "id": "af73a9cd",
   "metadata": {},
   "outputs": [],
   "source": [
    "# Comillas triples\n",
    "consulta = \"\"\"\n",
    "SELECT * FROM USERS\n",
    "WHERE ID = 8\n",
    "GROUP BY ADMIN\n",
    "\"\"\""
   ]
  },
  {
   "cell_type": "code",
   "execution_count": null,
   "id": "e3842f73",
   "metadata": {},
   "outputs": [
    {
     "data": {
      "text/plain": [
       "'\\nSELECT * FROM USERS\\nWHERE ID = 8\\nGROUP BY ADMIN\\n'"
      ]
     },
     "execution_count": 9,
     "metadata": {},
     "output_type": "execute_result"
    }
   ],
   "source": [
    "consulta"
   ]
  },
  {
   "cell_type": "code",
   "execution_count": null,
   "id": "d0601617",
   "metadata": {},
   "outputs": [],
   "source": [
    "# Operaciones con String\n",
    "cadena_1 = 'hola mundo'\n",
    "cadena_2 = '5'\n",
    "cadena_3 = 'cinco'"
   ]
  },
  {
   "cell_type": "code",
   "execution_count": null,
   "id": "05a596ec",
   "metadata": {},
   "outputs": [
    {
     "data": {
      "text/plain": [
       "'Hola mundo'"
      ]
     },
     "execution_count": 12,
     "metadata": {},
     "output_type": "execute_result"
    }
   ],
   "source": [
    "cadena_1.capitalize()"
   ]
  },
  {
   "cell_type": "code",
   "execution_count": null,
   "id": "7ecae3bf",
   "metadata": {},
   "outputs": [
    {
     "data": {
      "text/plain": [
       "'CINCO'"
      ]
     },
     "execution_count": 13,
     "metadata": {},
     "output_type": "execute_result"
    }
   ],
   "source": [
    "cadena_3.upper()"
   ]
  },
  {
   "cell_type": "code",
   "execution_count": null,
   "id": "7286c185",
   "metadata": {},
   "outputs": [
    {
     "data": {
      "text/plain": [
       "'cinco'"
      ]
     },
     "execution_count": 14,
     "metadata": {},
     "output_type": "execute_result"
    }
   ],
   "source": [
    "cadena_3.lower()"
   ]
  },
  {
   "cell_type": "code",
   "execution_count": null,
   "id": "9e654d5f",
   "metadata": {},
   "outputs": [
    {
     "data": {
      "text/plain": [
       "'Hola Mundo'"
      ]
     },
     "execution_count": 15,
     "metadata": {},
     "output_type": "execute_result"
    }
   ],
   "source": [
    "cadena_1.title()"
   ]
  },
  {
   "cell_type": "code",
   "execution_count": null,
   "id": "0e63fda8",
   "metadata": {},
   "outputs": [
    {
     "data": {
      "text/plain": [
       "['hola', 'mundo']"
      ]
     },
     "execution_count": 16,
     "metadata": {},
     "output_type": "execute_result"
    }
   ],
   "source": [
    "# Dividir string\n",
    "cadena_1.split()"
   ]
  },
  {
   "cell_type": "code",
   "execution_count": null,
   "id": "8bf3b577",
   "metadata": {},
   "outputs": [
    {
     "data": {
      "text/plain": [
       "2"
      ]
     },
     "execution_count": 17,
     "metadata": {},
     "output_type": "execute_result"
    }
   ],
   "source": [
    "cadena_1.count('o')"
   ]
  },
  {
   "cell_type": "code",
   "execution_count": null,
   "id": "8e5e7c16",
   "metadata": {},
   "outputs": [
    {
     "data": {
      "text/plain": [
       "10"
      ]
     },
     "execution_count": 18,
     "metadata": {},
     "output_type": "execute_result"
    }
   ],
   "source": [
    "# Longitud de una cadena\n",
    "len(cadena_1)"
   ]
  },
  {
   "cell_type": "code",
   "execution_count": null,
   "id": "e4405447",
   "metadata": {},
   "outputs": [
    {
     "data": {
      "text/plain": [
       "['hola ', 'undo']"
      ]
     },
     "execution_count": 19,
     "metadata": {},
     "output_type": "execute_result"
    }
   ],
   "source": [
    "# Quitar letra string\n",
    "cadena_1.split('m')"
   ]
  },
  {
   "cell_type": "code",
   "execution_count": 13,
   "id": "ca6339e8",
   "metadata": {},
   "outputs": [
    {
     "data": {
      "text/plain": [
       "'(Hola Mundo),'"
      ]
     },
     "execution_count": 13,
     "metadata": {},
     "output_type": "execute_result"
    }
   ],
   "source": [
    "# Limpiando extremo string\n",
    "cadena_4 = '(Hola Mundo), '\n",
    "cadena_4.strip()"
   ]
  },
  {
   "cell_type": "code",
   "execution_count": null,
   "id": "2ab4a3bc",
   "metadata": {},
   "outputs": [
    {
     "data": {
      "text/plain": [
       "'Hola Mundo'"
      ]
     },
     "execution_count": 21,
     "metadata": {},
     "output_type": "execute_result"
    }
   ],
   "source": [
    "cadena_4.strip('(), ')"
   ]
  },
  {
   "cell_type": "code",
   "execution_count": 2,
   "id": "29412925",
   "metadata": {},
   "outputs": [
    {
     "data": {
      "text/plain": [
       "'Hi Mundo'"
      ]
     },
     "execution_count": 2,
     "metadata": {},
     "output_type": "execute_result"
    }
   ],
   "source": [
    "# Reemplazar string\n",
    "cadena_5 = 'Hola Mundo'\n",
    "cadena_5.replace('Hola', 'Hi')"
   ]
  },
  {
   "cell_type": "code",
   "execution_count": 3,
   "id": "e2a641d3",
   "metadata": {},
   "outputs": [
    {
     "data": {
      "text/plain": [
       "1"
      ]
     },
     "execution_count": 3,
     "metadata": {},
     "output_type": "execute_result"
    }
   ],
   "source": [
    "cadena_5.index('o')"
   ]
  },
  {
   "cell_type": "code",
   "execution_count": 4,
   "id": "9a2f1dd7",
   "metadata": {},
   "outputs": [
    {
     "data": {
      "text/plain": [
       "9"
      ]
     },
     "execution_count": 4,
     "metadata": {},
     "output_type": "execute_result"
    }
   ],
   "source": [
    "cadena_5.index('o', 6)"
   ]
  },
  {
   "cell_type": "code",
   "execution_count": 6,
   "id": "cebafbc2",
   "metadata": {},
   "outputs": [
    {
     "data": {
      "text/plain": [
       "'a'"
      ]
     },
     "execution_count": 6,
     "metadata": {},
     "output_type": "execute_result"
    }
   ],
   "source": [
    "cadena_5[3]"
   ]
  },
  {
   "cell_type": "code",
   "execution_count": 7,
   "id": "ed4782a6",
   "metadata": {},
   "outputs": [
    {
     "data": {
      "text/plain": [
       "'d'"
      ]
     },
     "execution_count": 7,
     "metadata": {},
     "output_type": "execute_result"
    }
   ],
   "source": [
    "cadena_5[-2]"
   ]
  },
  {
   "cell_type": "code",
   "execution_count": 11,
   "id": "e58fb253",
   "metadata": {},
   "outputs": [
    {
     "data": {
      "text/plain": [
       "'la Mun'"
      ]
     },
     "execution_count": 11,
     "metadata": {},
     "output_type": "execute_result"
    }
   ],
   "source": [
    "cadena_5[2:-2]"
   ]
  },
  {
   "cell_type": "code",
   "execution_count": 12,
   "id": "3d2ef148",
   "metadata": {},
   "outputs": [
    {
     "data": {
      "text/plain": [
       "'odnuM aloH'"
      ]
     },
     "execution_count": 12,
     "metadata": {},
     "output_type": "execute_result"
    }
   ],
   "source": [
    "#Invirtiendo cadena\n",
    "cadena_5[::-1]"
   ]
  },
  {
   "cell_type": "code",
   "execution_count": 14,
   "id": "116dd741",
   "metadata": {},
   "outputs": [
    {
     "data": {
      "text/plain": [
       "['HOLA', 'MUNDO']"
      ]
     },
     "execution_count": 14,
     "metadata": {},
     "output_type": "execute_result"
    }
   ],
   "source": [
    "#llamada a una cadena\n",
    "cadena_4.strip('(), ').upper().split()"
   ]
  },
  {
   "cell_type": "code",
   "execution_count": 15,
   "id": "8864bdd3",
   "metadata": {},
   "outputs": [
    {
     "data": {
      "text/plain": [
       "'Hola Jaime este es el curso de Topicos Especiales en Inteligencia de Negocios'"
      ]
     },
     "execution_count": 15,
     "metadata": {},
     "output_type": "execute_result"
    }
   ],
   "source": [
    "# Python f-string\n",
    "nombre = 'Jaime'\n",
    "curso ='Topicos Especiales en Inteligencia de Negocios'\n",
    "f'Hola {nombre} este es el curso de {curso}'"
   ]
  },
  {
   "cell_type": "code",
   "execution_count": 17,
   "id": "4174b0e6",
   "metadata": {},
   "outputs": [],
   "source": [
    "string_1 = \"Hola mundo\"\n",
    "string_2 = '5'\n",
    "string_3 = 'cinco'"
   ]
  },
  {
   "cell_type": "code",
   "execution_count": 18,
   "id": "5d478bf5",
   "metadata": {},
   "outputs": [
    {
     "data": {
      "text/plain": [
       "False"
      ]
     },
     "execution_count": 18,
     "metadata": {},
     "output_type": "execute_result"
    }
   ],
   "source": [
    "string_1.isdigit()"
   ]
  },
  {
   "cell_type": "code",
   "execution_count": 19,
   "id": "8c8d2ffd",
   "metadata": {},
   "outputs": [
    {
     "data": {
      "text/plain": [
       "True"
      ]
     },
     "execution_count": 19,
     "metadata": {},
     "output_type": "execute_result"
    }
   ],
   "source": [
    "string_2.isdigit()"
   ]
  },
  {
   "cell_type": "code",
   "execution_count": 20,
   "id": "76b7290f",
   "metadata": {},
   "outputs": [
    {
     "data": {
      "text/plain": [
       "True"
      ]
     },
     "execution_count": 20,
     "metadata": {},
     "output_type": "execute_result"
    }
   ],
   "source": [
    "string_3.isalpha()"
   ]
  },
  {
   "cell_type": "code",
   "execution_count": 21,
   "id": "02cb3933",
   "metadata": {},
   "outputs": [
    {
     "data": {
      "text/plain": [
       "'abcdefghijklmnopqrstuvwxyzABCDEFGHIJKLMNOPQRSTUVWXYZ'"
      ]
     },
     "execution_count": 21,
     "metadata": {},
     "output_type": "execute_result"
    }
   ],
   "source": [
    "import string\n",
    "string.ascii_letters"
   ]
  },
  {
   "cell_type": "code",
   "execution_count": 22,
   "id": "d1c406fd",
   "metadata": {},
   "outputs": [
    {
     "data": {
      "text/plain": [
       "'abcdefghijklmnopqrstuvwxyz'"
      ]
     },
     "execution_count": 22,
     "metadata": {},
     "output_type": "execute_result"
    }
   ],
   "source": [
    "string.ascii_lowercase"
   ]
  },
  {
   "cell_type": "code",
   "execution_count": 23,
   "id": "25cb0e2f",
   "metadata": {},
   "outputs": [
    {
     "data": {
      "text/plain": [
       "'ABCDEFGHIJKLMNOPQRSTUVWXYZ'"
      ]
     },
     "execution_count": 23,
     "metadata": {},
     "output_type": "execute_result"
    }
   ],
   "source": [
    "string.ascii_uppercase"
   ]
  },
  {
   "cell_type": "markdown",
   "id": "19e1e416",
   "metadata": {},
   "source": [
    "# 3. Funcion Print"
   ]
  },
  {
   "cell_type": "code",
   "execution_count": 24,
   "id": "cb860685",
   "metadata": {},
   "outputs": [
    {
     "name": "stdout",
     "output_type": "stream",
     "text": [
      "Hola mundo\n"
     ]
    }
   ],
   "source": [
    "print(string_1)"
   ]
  },
  {
   "cell_type": "code",
   "execution_count": 25,
   "id": "dddf6eb3",
   "metadata": {},
   "outputs": [
    {
     "name": "stdout",
     "output_type": "stream",
     "text": [
      "<class 'str'>\n"
     ]
    }
   ],
   "source": [
    "print(type(string_1))"
   ]
  },
  {
   "cell_type": "code",
   "execution_count": 26,
   "id": "bcf24e0d",
   "metadata": {},
   "outputs": [
    {
     "name": "stdout",
     "output_type": "stream",
     "text": [
      "<class 'int'>\n"
     ]
    }
   ],
   "source": [
    "print(type(5))"
   ]
  },
  {
   "cell_type": "code",
   "execution_count": 30,
   "id": "9a824502",
   "metadata": {},
   "outputs": [
    {
     "name": "stdout",
     "output_type": "stream",
     "text": [
      "Mi nombre es: Jaime\n",
      "Mi nombre es: Jaime\n"
     ]
    }
   ],
   "source": [
    "print('Mi nombre es:', nombre)\n",
    "print(f'Mi nombre es: {nombre}')"
   ]
  },
  {
   "cell_type": "code",
   "execution_count": 32,
   "id": "dae65565",
   "metadata": {},
   "outputs": [
    {
     "name": "stdout",
     "output_type": "stream",
     "text": [
      "Los datos del curso son: \n",
      "Curso \t\t: Topicos Especiales en Inteligencia de Negocio\n",
      "Ciclo \t\t: Sexto\n",
      "Tipo Curso \t: Electivo\n"
     ]
    }
   ],
   "source": [
    "print(\"Los datos del curso son: \\nCurso \\t\\t: Topicos Especiales en Inteligencia de Negocio\\nCiclo \\t\\t: Sexto\\nTipo Curso \\t: Electivo\")"
   ]
  },
  {
   "cell_type": "markdown",
   "id": "f2198546",
   "metadata": {},
   "source": [
    "# 4. Booleanos y condicionales"
   ]
  },
  {
   "cell_type": "code",
   "execution_count": 38,
   "id": "801cd937",
   "metadata": {},
   "outputs": [
    {
     "name": "stdout",
     "output_type": "stream",
     "text": [
      "<class 'bool'>\n"
     ]
    }
   ],
   "source": [
    "final_page = False\n",
    "print(type(final_page))"
   ]
  },
  {
   "cell_type": "code",
   "execution_count": 39,
   "id": "e33bf15a",
   "metadata": {},
   "outputs": [
    {
     "name": "stdout",
     "output_type": "stream",
     "text": [
      "Sigue leyendo\n"
     ]
    }
   ],
   "source": [
    "if final_page:\n",
    "    print('Final de la pagina')\n",
    "else: \n",
    "    print('Sigue leyendo')"
   ]
  },
  {
   "cell_type": "code",
   "execution_count": 40,
   "id": "bf08a278",
   "metadata": {},
   "outputs": [
    {
     "data": {
      "text/plain": [
       "False"
      ]
     },
     "execution_count": 40,
     "metadata": {},
     "output_type": "execute_result"
    }
   ],
   "source": [
    "# operadores logicos\n",
    "not True"
   ]
  },
  {
   "cell_type": "code",
   "execution_count": 41,
   "id": "72927f0d",
   "metadata": {},
   "outputs": [
    {
     "data": {
      "text/plain": [
       "True"
      ]
     },
     "execution_count": 41,
     "metadata": {},
     "output_type": "execute_result"
    }
   ],
   "source": [
    "not False"
   ]
  },
  {
   "cell_type": "code",
   "execution_count": 42,
   "id": "fffda670",
   "metadata": {},
   "outputs": [
    {
     "data": {
      "text/plain": [
       "True"
      ]
     },
     "execution_count": 42,
     "metadata": {},
     "output_type": "execute_result"
    }
   ],
   "source": [
    "True and True"
   ]
  },
  {
   "cell_type": "code",
   "execution_count": 43,
   "id": "6fcba006",
   "metadata": {},
   "outputs": [
    {
     "data": {
      "text/plain": [
       "False"
      ]
     },
     "execution_count": 43,
     "metadata": {},
     "output_type": "execute_result"
    }
   ],
   "source": [
    "True and False"
   ]
  },
  {
   "cell_type": "code",
   "execution_count": 44,
   "id": "274cd542",
   "metadata": {},
   "outputs": [
    {
     "data": {
      "text/plain": [
       "True"
      ]
     },
     "execution_count": 44,
     "metadata": {},
     "output_type": "execute_result"
    }
   ],
   "source": [
    "True or False"
   ]
  },
  {
   "cell_type": "code",
   "execution_count": 45,
   "id": "7b158c9a",
   "metadata": {},
   "outputs": [
    {
     "ename": "TypeError",
     "evalue": "'<' not supported between instances of 'int' and 'str'",
     "output_type": "error",
     "traceback": [
      "\u001b[31m---------------------------------------------------------------------------\u001b[39m",
      "\u001b[31mTypeError\u001b[39m                                 Traceback (most recent call last)",
      "\u001b[36mCell\u001b[39m\u001b[36m \u001b[39m\u001b[32mIn[45]\u001b[39m\u001b[32m, line 2\u001b[39m\n\u001b[32m      1\u001b[39m \u001b[38;5;66;03m# Comparacion\u001b[39;00m\n\u001b[32m----> \u001b[39m\u001b[32m2\u001b[39m \u001b[32;43m1\u001b[39;49m\u001b[43m \u001b[49m\u001b[43m<\u001b[49m\u001b[43m \u001b[49m\u001b[33;43m'\u001b[39;49m\u001b[33;43muno\u001b[39;49m\u001b[33;43m'\u001b[39;49m\n",
      "\u001b[31mTypeError\u001b[39m: '<' not supported between instances of 'int' and 'str'"
     ]
    }
   ],
   "source": [
    "# Comparacion\n",
    "1 < 'uno'"
   ]
  },
  {
   "cell_type": "markdown",
   "id": "82fb4b81",
   "metadata": {},
   "source": [
    "# 5. Loops"
   ]
  },
  {
   "cell_type": "code",
   "execution_count": 46,
   "id": "823c1b90",
   "metadata": {},
   "outputs": [
    {
     "name": "stdout",
     "output_type": "stream",
     "text": [
      "H\n",
      "o\n",
      "l\n",
      "a\n",
      " \n",
      "M\n",
      "u\n",
      "n\n",
      "d\n",
      "o\n"
     ]
    }
   ],
   "source": [
    "for letra in 'Hola Mundo':\n",
    "    print(letra)"
   ]
  },
  {
   "cell_type": "code",
   "execution_count": 47,
   "id": "2e3cbff2",
   "metadata": {},
   "outputs": [
    {
     "name": "stdout",
     "output_type": "stream",
     "text": [
      "Palabras: ['Hola', 'a', 'Todos']\n"
     ]
    }
   ],
   "source": [
    "my_string = 'Hola a Todos'\n",
    "palabras = my_string.split()\n",
    "print(f'Palabras: {palabras}')"
   ]
  },
  {
   "cell_type": "code",
   "execution_count": 48,
   "id": "d9324ec4",
   "metadata": {},
   "outputs": [
    {
     "name": "stdout",
     "output_type": "stream",
     "text": [
      "Hola\n",
      "a\n",
      "Todos\n"
     ]
    }
   ],
   "source": [
    "for palabra in palabras:\n",
    "    print(palabra)"
   ]
  },
  {
   "cell_type": "code",
   "execution_count": 49,
   "id": "8dc9ce3e",
   "metadata": {},
   "outputs": [
    {
     "name": "stdout",
     "output_type": "stream",
     "text": [
      "0 Hola\n",
      "1 a\n",
      "2 Todos\n"
     ]
    }
   ],
   "source": [
    "for idx, palabra in enumerate(palabras):\n",
    "    print(idx, palabra)"
   ]
  },
  {
   "cell_type": "code",
   "execution_count": 50,
   "id": "b42fcff0",
   "metadata": {},
   "outputs": [
    {
     "name": "stdout",
     "output_type": "stream",
     "text": [
      "1 Hola\n",
      "2 a\n",
      "3 Todos\n"
     ]
    }
   ],
   "source": [
    "for idx, palabra in enumerate(palabras, 1):\n",
    "    print(idx, palabra)"
   ]
  },
  {
   "cell_type": "code",
   "execution_count": 53,
   "id": "6dba290a",
   "metadata": {},
   "outputs": [
    {
     "name": "stdout",
     "output_type": "stream",
     "text": [
      "El numero de intento 1\n",
      "El numero de intento 2\n",
      "El numero de intento 3\n",
      "El numero de intento 4\n",
      "El numero de intento 5\n"
     ]
    }
   ],
   "source": [
    "# Trabajando while loops\n",
    "max_intentos=5\n",
    "intento =1\n",
    "while intento <= max_intentos:\n",
    "    print(f'El numero de intento {intento}')\n",
    "    intento+=1"
   ]
  },
  {
   "cell_type": "markdown",
   "id": "2f8c85db",
   "metadata": {},
   "source": [
    "# 6. Funciones"
   ]
  },
  {
   "cell_type": "code",
   "execution_count": 54,
   "id": "dbcff261",
   "metadata": {},
   "outputs": [
    {
     "name": "stdout",
     "output_type": "stream",
     "text": [
      "Ya me voy\n"
     ]
    }
   ],
   "source": [
    "print('Ya me voy')"
   ]
  },
  {
   "cell_type": "code",
   "execution_count": 55,
   "id": "c6302d18",
   "metadata": {},
   "outputs": [
    {
     "data": {
      "text/plain": [
       "17"
      ]
     },
     "execution_count": 55,
     "metadata": {},
     "output_type": "execute_result"
    }
   ],
   "source": [
    "len('Aprobaré el curso')"
   ]
  },
  {
   "cell_type": "code",
   "execution_count": 56,
   "id": "70b534e7",
   "metadata": {},
   "outputs": [],
   "source": [
    "#Creando funciones\n",
    "def saluda():\n",
    "    print('Hola')"
   ]
  },
  {
   "cell_type": "code",
   "execution_count": 57,
   "id": "c917c52b",
   "metadata": {},
   "outputs": [
    {
     "name": "stdout",
     "output_type": "stream",
     "text": [
      "Hola\n"
     ]
    }
   ],
   "source": [
    "saluda()"
   ]
  },
  {
   "cell_type": "code",
   "execution_count": 58,
   "id": "62cd1187",
   "metadata": {},
   "outputs": [],
   "source": [
    "def saluda(nombre):\n",
    "    print(f'Hola, {nombre}')"
   ]
  },
  {
   "cell_type": "code",
   "execution_count": 59,
   "id": "623dae8d",
   "metadata": {},
   "outputs": [
    {
     "name": "stdout",
     "output_type": "stream",
     "text": [
      "Hola, Juan Perez\n"
     ]
    }
   ],
   "source": [
    "saluda('Juan Perez')"
   ]
  },
  {
   "cell_type": "code",
   "execution_count": 60,
   "id": "9090d464",
   "metadata": {},
   "outputs": [],
   "source": [
    "def bienvenido(nombre, lugar):\n",
    "    print(f'Bienvenid@ {nombre}, llegaste a {lugar}')"
   ]
  },
  {
   "cell_type": "code",
   "execution_count": 61,
   "id": "7738d5e8",
   "metadata": {},
   "outputs": [
    {
     "name": "stdout",
     "output_type": "stream",
     "text": [
      "Bienvenid@ Jaime, llegaste a Cusco\n"
     ]
    }
   ],
   "source": [
    "bienvenido('Jaime', 'Cusco')"
   ]
  },
  {
   "cell_type": "code",
   "execution_count": 62,
   "id": "2508c347",
   "metadata": {},
   "outputs": [],
   "source": [
    "# Funcion retorna un valor\n",
    "def sumar(a, b):\n",
    "    return a+b"
   ]
  },
  {
   "cell_type": "code",
   "execution_count": 63,
   "id": "18416b91",
   "metadata": {},
   "outputs": [
    {
     "name": "stdout",
     "output_type": "stream",
     "text": [
      "16\n"
     ]
    }
   ],
   "source": [
    "resultado = sumar(9,7)\n",
    "print(resultado)"
   ]
  },
  {
   "cell_type": "code",
   "execution_count": 64,
   "id": "2d5a2dbc",
   "metadata": {},
   "outputs": [
    {
     "name": "stdout",
     "output_type": "stream",
     "text": [
      "La suma es un numero par\n"
     ]
    }
   ],
   "source": [
    "# Reutilizando funcion en una condicion\n",
    "if sumar(9,7) %2==0:\n",
    "    print('La suma es un numero par')\n",
    "else:\n",
    "    print('La suma es un numero impar')"
   ]
  },
  {
   "cell_type": "code",
   "execution_count": 65,
   "id": "0c007716",
   "metadata": {},
   "outputs": [
    {
     "ename": "NameError",
     "evalue": "name 'nose' is not defined",
     "output_type": "error",
     "traceback": [
      "\u001b[31m---------------------------------------------------------------------------\u001b[39m",
      "\u001b[31mNameError\u001b[39m                                 Traceback (most recent call last)",
      "\u001b[36mCell\u001b[39m\u001b[36m \u001b[39m\u001b[32mIn[65]\u001b[39m\u001b[32m, line 1\u001b[39m\n\u001b[32m----> \u001b[39m\u001b[32m1\u001b[39m \u001b[38;5;28mprint\u001b[39m(\u001b[43mnose\u001b[49m)\n",
      "\u001b[31mNameError\u001b[39m: name 'nose' is not defined"
     ]
    }
   ],
   "source": [
    "print(nose)"
   ]
  },
  {
   "cell_type": "markdown",
   "id": "c862244e",
   "metadata": {},
   "source": [
    "# 7. Otros\n",
    "\n",
    "- Manejo Excepciones\n",
    "- Instrucciones: Pass, Continue, Break"
   ]
  },
  {
   "cell_type": "code",
   "execution_count": 66,
   "id": "58de1213",
   "metadata": {},
   "outputs": [
    {
     "ename": "NameError",
     "evalue": "name 'pritn' is not defined",
     "output_type": "error",
     "traceback": [
      "\u001b[31m---------------------------------------------------------------------------\u001b[39m",
      "\u001b[31mNameError\u001b[39m                                 Traceback (most recent call last)",
      "\u001b[36mCell\u001b[39m\u001b[36m \u001b[39m\u001b[32mIn[66]\u001b[39m\u001b[32m, line 2\u001b[39m\n\u001b[32m      1\u001b[39m \u001b[38;5;66;03m# NameError\u001b[39;00m\n\u001b[32m----> \u001b[39m\u001b[32m2\u001b[39m \u001b[43mpritn\u001b[49m(\u001b[33m'\u001b[39m\u001b[33mTest\u001b[39m\u001b[33m'\u001b[39m)\n",
      "\u001b[31mNameError\u001b[39m: name 'pritn' is not defined"
     ]
    }
   ],
   "source": [
    "# NameError\n",
    "pritn('Test')"
   ]
  },
  {
   "cell_type": "code",
   "execution_count": 67,
   "id": "c28c5ee5",
   "metadata": {},
   "outputs": [
    {
     "name": "stdout",
     "output_type": "stream",
     "text": [
      "Esto es un error de NameError\n"
     ]
    }
   ],
   "source": [
    "try:\n",
    "    pritn('Test')\n",
    "except:\n",
    "    print('Esto es un error de NameError')"
   ]
  },
  {
   "cell_type": "code",
   "execution_count": 70,
   "id": "1b8247b8",
   "metadata": {},
   "outputs": [
    {
     "ename": "KeyError",
     "evalue": "'apellido'",
     "output_type": "error",
     "traceback": [
      "\u001b[31m---------------------------------------------------------------------------\u001b[39m",
      "\u001b[31mKeyError\u001b[39m                                  Traceback (most recent call last)",
      "\u001b[36mCell\u001b[39m\u001b[36m \u001b[39m\u001b[32mIn[70]\u001b[39m\u001b[32m, line 3\u001b[39m\n\u001b[32m      1\u001b[39m \u001b[38;5;66;03m# Errore comunes: KeyError\u001b[39;00m\n\u001b[32m      2\u001b[39m dict_alumno = {\u001b[33m'\u001b[39m\u001b[33mnombre\u001b[39m\u001b[33m'\u001b[39m:\u001b[33m'\u001b[39m\u001b[33mAngel\u001b[39m\u001b[33m'\u001b[39m}\n\u001b[32m----> \u001b[39m\u001b[32m3\u001b[39m \u001b[43mdict_alumno\u001b[49m\u001b[43m \u001b[49m\u001b[43m[\u001b[49m\u001b[33;43m'\u001b[39;49m\u001b[33;43mapellido\u001b[39;49m\u001b[33;43m'\u001b[39;49m\u001b[43m]\u001b[49m\n",
      "\u001b[31mKeyError\u001b[39m: 'apellido'"
     ]
    }
   ],
   "source": [
    "# Errore comunes: KeyError\n",
    "dict_alumno = {'nombre':'Angel'}\n",
    "dict_alumno ['apellido']"
   ]
  },
  {
   "cell_type": "code",
   "execution_count": 71,
   "id": "79d2f9e7",
   "metadata": {},
   "outputs": [
    {
     "name": "stdout",
     "output_type": "stream",
     "text": [
      "Esto es un error KeyError\n"
     ]
    }
   ],
   "source": [
    "try:\n",
    "    dict_alumno ['apellido']\n",
    "except:\n",
    "    print('Esto es un error KeyError')"
   ]
  },
  {
   "cell_type": "code",
   "execution_count": 72,
   "id": "985b9abd",
   "metadata": {},
   "outputs": [
    {
     "ename": "IndexError",
     "evalue": "list index out of range",
     "output_type": "error",
     "traceback": [
      "\u001b[31m---------------------------------------------------------------------------\u001b[39m",
      "\u001b[31mIndexError\u001b[39m                                Traceback (most recent call last)",
      "\u001b[36mCell\u001b[39m\u001b[36m \u001b[39m\u001b[32mIn[72]\u001b[39m\u001b[32m, line 3\u001b[39m\n\u001b[32m      1\u001b[39m \u001b[38;5;66;03m# Errores al indexar: indexError\u001b[39;00m\n\u001b[32m      2\u001b[39m lista= [\u001b[32m1\u001b[39m,\u001b[32m2\u001b[39m,\u001b[32m3\u001b[39m]\n\u001b[32m----> \u001b[39m\u001b[32m3\u001b[39m \u001b[43mlista\u001b[49m\u001b[43m[\u001b[49m\u001b[32;43m7\u001b[39;49m\u001b[43m]\u001b[49m\n",
      "\u001b[31mIndexError\u001b[39m: list index out of range"
     ]
    }
   ],
   "source": [
    "# Errores al indexar: indexError\n",
    "lista= [1,2,3]\n",
    "lista[7]"
   ]
  },
  {
   "cell_type": "code",
   "execution_count": 73,
   "id": "c3df14b8",
   "metadata": {},
   "outputs": [
    {
     "name": "stdout",
     "output_type": "stream",
     "text": [
      "Esto es un error IndexError\n"
     ]
    }
   ],
   "source": [
    "try:\n",
    "    lista[7]\n",
    "except:\n",
    "    print('Esto es un error IndexError')"
   ]
  },
  {
   "cell_type": "code",
   "execution_count": 74,
   "id": "89d548bd",
   "metadata": {},
   "outputs": [],
   "source": [
    "# Funcion detectar error\n",
    "def get_cociente(x,y):\n",
    "    try:\n",
    "        resultado= x//y\n",
    "    except ZeroDivisionError:\n",
    "        print('No es posible la division por cero')\n",
    "    except TypeError as e:\n",
    "        print('Error de TypeError. Detalle: ', e)\n",
    "    else:\n",
    "        print('El resultado es: ', resultado)\n",
    "    finally:\n",
    "        print('Esto siempre se ejecuta')"
   ]
  },
  {
   "cell_type": "code",
   "execution_count": 75,
   "id": "97bf6306",
   "metadata": {},
   "outputs": [
    {
     "name": "stdout",
     "output_type": "stream",
     "text": [
      "El resultado es:  1\n",
      "Esto siempre se ejecuta\n"
     ]
    }
   ],
   "source": [
    "get_cociente(9,7)"
   ]
  },
  {
   "cell_type": "code",
   "execution_count": 76,
   "id": "d3a7ca56",
   "metadata": {},
   "outputs": [
    {
     "name": "stdout",
     "output_type": "stream",
     "text": [
      "Error de TypeError. Detalle:  unsupported operand type(s) for //: 'int' and 'str'\n",
      "Esto siempre se ejecuta\n"
     ]
    }
   ],
   "source": [
    "get_cociente(16, 'a')"
   ]
  },
  {
   "cell_type": "code",
   "execution_count": 77,
   "id": "4f0807ee",
   "metadata": {},
   "outputs": [
    {
     "name": "stdout",
     "output_type": "stream",
     "text": [
      "No es posible la division por cero\n",
      "Esto siempre se ejecuta\n"
     ]
    }
   ],
   "source": [
    "get_cociente(55, 0)"
   ]
  }
 ],
 "metadata": {
  "kernelspec": {
   "display_name": "myenv",
   "language": "python",
   "name": "python3"
  },
  "language_info": {
   "codemirror_mode": {
    "name": "ipython",
    "version": 3
   },
   "file_extension": ".py",
   "mimetype": "text/x-python",
   "name": "python",
   "nbconvert_exporter": "python",
   "pygments_lexer": "ipython3",
   "version": "3.13.7"
  }
 },
 "nbformat": 4,
 "nbformat_minor": 5
}
